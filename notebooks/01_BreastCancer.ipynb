{
 "cells": [
  {
   "cell_type": "code",
   "execution_count": 1,
   "id": "2360e339",
   "metadata": {
    "_cell_guid": "b1076dfc-b9ad-4769-8c92-a6c4dae69d19",
    "_uuid": "8f2839f25d086af736a60e9eeb907d3b93b6e0e5",
    "execution": {
     "iopub.execute_input": "2023-11-19T22:32:22.446916Z",
     "iopub.status.busy": "2023-11-19T22:32:22.445825Z",
     "iopub.status.idle": "2023-11-19T22:32:24.839593Z",
     "shell.execute_reply": "2023-11-19T22:32:24.838405Z"
    },
    "papermill": {
     "duration": 2.410713,
     "end_time": "2023-11-19T22:32:24.842648",
     "exception": false,
     "start_time": "2023-11-19T22:32:22.431935",
     "status": "completed"
    },
    "tags": []
   },
   "outputs": [
    {
     "name": "stdout",
     "output_type": "stream",
     "text": [
      "/kaggle/input/184702-tu-ml-ws-23-breast-cancer/breast-cancer-diagnostic.shuf.tes.csv\n",
      "/kaggle/input/184702-tu-ml-ws-23-breast-cancer/breast-cancer-diagnostic.shuf.lrn.csv\n",
      "/kaggle/input/184702-tu-ml-ws-23-breast-cancer/breast-cancer-diagnostic.shuf.sol.ex.csv\n"
     ]
    }
   ],
   "source": [
    "# This Python 3 environment comes with many helpful analytics libraries installed\n",
    "# It is defined by the kaggle/python Docker image: https://github.com/kaggle/docker-python\n",
    "# For example, here's several helpful packages to load\n",
    "\n",
    "import numpy as np # linear algebra\n",
    "import pandas as pd # data processing, CSV file I/O (e.g. pd.read_csv)\n",
    "from sklearn.preprocessing import MinMaxScaler\n",
    "from sklearn.preprocessing import StandardScaler\n",
    "from sklearn.tree import DecisionTreeClassifier\n",
    "from sklearn.model_selection import train_test_split, cross_val_score, GridSearchCV\n",
    "from sklearn.metrics import accuracy_score, confusion_matrix\n",
    "import pandas as pd\n",
    "import matplotlib.pyplot as plt\n",
    "from sklearn.impute import SimpleImputer\n",
    "from sklearn.linear_model import LogisticRegression\n",
    "from sklearn.neighbors import KNeighborsClassifier\n",
    "\n",
    "# Input data files are available in the read-only \"../input/\" directory\n",
    "# For example, running this (by clicking run or pressing Shift+Enter) will list all files under the input directory\n",
    "\n",
    "import os\n",
    "for dirname, _, filenames in os.walk('/kaggle/input'):\n",
    "    for filename in filenames:\n",
    "        print(os.path.join(dirname, filename))\n",
    "\n",
    "# You can write up to 20GB to the current directory (/kaggle/working/) that gets preserved as output when you create a version using \"Save & Run All\" \n",
    "# You can also write temporary files to /kaggle/temp/, but they won't be saved outside of the current session"
   ]
  },
  {
   "cell_type": "markdown",
   "id": "747a4a97",
   "metadata": {
    "papermill": {
     "duration": 0.009584,
     "end_time": "2023-11-19T22:32:24.862784",
     "exception": false,
     "start_time": "2023-11-19T22:32:24.853200",
     "status": "completed"
    },
    "tags": []
   },
   "source": [
    "# Load"
   ]
  },
  {
   "cell_type": "code",
   "execution_count": 2,
   "id": "aa3f8738",
   "metadata": {
    "execution": {
     "iopub.execute_input": "2023-11-19T22:32:24.884558Z",
     "iopub.status.busy": "2023-11-19T22:32:24.883960Z",
     "iopub.status.idle": "2023-11-19T22:32:24.931179Z",
     "shell.execute_reply": "2023-11-19T22:32:24.930125Z"
    },
    "papermill": {
     "duration": 0.061326,
     "end_time": "2023-11-19T22:32:24.934035",
     "exception": false,
     "start_time": "2023-11-19T22:32:24.872709",
     "status": "completed"
    },
    "tags": []
   },
   "outputs": [],
   "source": [
    "X_trains = {}\n",
    "X_tests = {}\n",
    "X_trains['raw'] = pd.read_csv('/kaggle/input/184702-tu-ml-ws-23-breast-cancer/breast-cancer-diagnostic.shuf.lrn.csv')\n",
    "X_tests['raw'] = pd.read_csv('/kaggle/input/184702-tu-ml-ws-23-breast-cancer/breast-cancer-diagnostic.shuf.tes.csv')\n",
    "tes = X_tests['raw'].copy()"
   ]
  },
  {
   "cell_type": "code",
   "execution_count": 3,
   "id": "d568bc81",
   "metadata": {
    "execution": {
     "iopub.execute_input": "2023-11-19T22:32:24.956423Z",
     "iopub.status.busy": "2023-11-19T22:32:24.955378Z",
     "iopub.status.idle": "2023-11-19T22:32:24.980011Z",
     "shell.execute_reply": "2023-11-19T22:32:24.978760Z"
    },
    "papermill": {
     "duration": 0.038924,
     "end_time": "2023-11-19T22:32:24.983092",
     "exception": false,
     "start_time": "2023-11-19T22:32:24.944168",
     "status": "completed"
    },
    "tags": []
   },
   "outputs": [],
   "source": [
    "for df in [X_trains['raw'], X_tests['raw']]:\n",
    "    df.rename(columns=lambda x: x.strip(), inplace=True)\n",
    "    df.drop(columns='ID', inplace=True)\n",
    "# Replace 'True' and 'False' in the 'class' column with 1 and 0\n",
    "X_trains['raw']['class'] = X_trains['raw']['class'].replace({True: 1, False: 0})\n"
   ]
  },
  {
   "cell_type": "code",
   "execution_count": 4,
   "id": "e372e8c7",
   "metadata": {
    "execution": {
     "iopub.execute_input": "2023-11-19T22:32:25.004764Z",
     "iopub.status.busy": "2023-11-19T22:32:25.004302Z",
     "iopub.status.idle": "2023-11-19T22:32:25.013812Z",
     "shell.execute_reply": "2023-11-19T22:32:25.012750Z"
    },
    "papermill": {
     "duration": 0.023307,
     "end_time": "2023-11-19T22:32:25.016470",
     "exception": false,
     "start_time": "2023-11-19T22:32:24.993163",
     "status": "completed"
    },
    "tags": []
   },
   "outputs": [],
   "source": [
    "def plot_histograms(dataframe):\n",
    "    # Get numeric columns\n",
    "    numeric_columns = dataframe.select_dtypes(include=np.number).columns.tolist()\n",
    "    \n",
    "    # Calculate number of rows needed for plotting\n",
    "    num_plots = len(numeric_columns)\n",
    "    num_plots_per_row = 4\n",
    "    num_rows = (num_plots - 1) // num_plots_per_row + 1\n",
    "    \n",
    "    # Create subplots with the specified figure size\n",
    "    fig, axes = plt.subplots(num_rows, num_plots_per_row, figsize=(20, 15))\n",
    "    \n",
    "    # Flatten the axes array to handle different cases\n",
    "    axes = axes.flatten()\n",
    "    \n",
    "    # Iterate through each numeric column\n",
    "    for i, column in enumerate(numeric_columns):\n",
    "        # Plot histogram\n",
    "        dataframe[column].plot(kind='hist', ax=axes[i], title=column)\n",
    "        axes[i].set_xlabel(\"\")  # Remove x-axis label for better layout\n",
    "    \n",
    "    # Hide extra subplots\n",
    "    for j in range(i+1, num_plots_per_row*num_rows):\n",
    "        axes[j].axis('off')\n",
    "    \n",
    "    plt.tight_layout()\n",
    "    plt.show()\n",
    "\n",
    "# plot_histograms(X_trains['raw'])\n"
   ]
  },
  {
   "cell_type": "markdown",
   "id": "17d53755",
   "metadata": {
    "papermill": {
     "duration": 0.009808,
     "end_time": "2023-11-19T22:32:25.036273",
     "exception": false,
     "start_time": "2023-11-19T22:32:25.026465",
     "status": "completed"
    },
    "tags": []
   },
   "source": [
    "# Pre-process"
   ]
  },
  {
   "cell_type": "markdown",
   "id": "43879e1d",
   "metadata": {
    "papermill": {
     "duration": 0.009459,
     "end_time": "2023-11-19T22:32:25.055676",
     "exception": false,
     "start_time": "2023-11-19T22:32:25.046217",
     "status": "completed"
    },
    "tags": []
   },
   "source": [
    "## Log transformation"
   ]
  },
  {
   "cell_type": "code",
   "execution_count": 5,
   "id": "cac11205",
   "metadata": {
    "execution": {
     "iopub.execute_input": "2023-11-19T22:32:25.076967Z",
     "iopub.status.busy": "2023-11-19T22:32:25.076576Z",
     "iopub.status.idle": "2023-11-19T22:32:25.100629Z",
     "shell.execute_reply": "2023-11-19T22:32:25.099228Z"
    },
    "papermill": {
     "duration": 0.037817,
     "end_time": "2023-11-19T22:32:25.103315",
     "exception": false,
     "start_time": "2023-11-19T22:32:25.065498",
     "status": "completed"
    },
    "tags": []
   },
   "outputs": [],
   "source": [
    "X_trains_log = X_trains['raw'].copy()\n",
    "\n",
    "numeric_columns_except_class = [col for col in X_trains_log.columns if col != 'class' and pd.api.types.is_numeric_dtype(X_trains_log[col])]\n",
    "X_trains_log[numeric_columns_except_class] = X_trains_log[numeric_columns_except_class].apply(lambda x: np.log1p(x))"
   ]
  },
  {
   "cell_type": "code",
   "execution_count": 6,
   "id": "d829c0ca",
   "metadata": {
    "execution": {
     "iopub.execute_input": "2023-11-19T22:32:25.124994Z",
     "iopub.status.busy": "2023-11-19T22:32:25.124597Z",
     "iopub.status.idle": "2023-11-19T22:32:25.134541Z",
     "shell.execute_reply": "2023-11-19T22:32:25.133451Z"
    },
    "papermill": {
     "duration": 0.023461,
     "end_time": "2023-11-19T22:32:25.136878",
     "exception": false,
     "start_time": "2023-11-19T22:32:25.113417",
     "status": "completed"
    },
    "tags": []
   },
   "outputs": [],
   "source": [
    "def plot_histograms_transformed(dataframe):\n",
    "    # Get numeric columns excluding 'class'\n",
    "    numeric_columns_except_class = [col for col in dataframe.columns if col != 'class' and pd.api.types.is_numeric_dtype(dataframe[col])]\n",
    "    \n",
    "    # Calculate number of rows needed for plotting\n",
    "    num_plots = len(numeric_columns_except_class)\n",
    "    num_plots_per_row = 4\n",
    "    num_rows = (num_plots - 1) // num_plots_per_row + 1\n",
    "    \n",
    "    # Create subplots with the specified figure size\n",
    "    fig, axes = plt.subplots(num_rows, num_plots_per_row, figsize=(20, 15))\n",
    "    \n",
    "    # Flatten the axes array to handle different cases\n",
    "    axes = axes.flatten()\n",
    "    \n",
    "    # Iterate through each numeric column except 'class'\n",
    "    for i, column in enumerate(numeric_columns_except_class):\n",
    "        # Plot histogram of the transformed data\n",
    "        dataframe[column].plot(kind='hist', ax=axes[i], title=f'{column} (Transformed)')\n",
    "        axes[i].set_xlabel(\"\")  # Remove x-axis label for better layout\n",
    "    \n",
    "    # Hide extra subplots\n",
    "    for j in range(i+1, num_plots_per_row*num_rows):\n",
    "        axes[j].axis('off')\n",
    "    \n",
    "    plt.tight_layout()\n",
    "    plt.show()\n",
    "\n",
    "# plot_histograms_transformed(X_trains_log)\n"
   ]
  },
  {
   "cell_type": "markdown",
   "id": "c02ecd7c",
   "metadata": {
    "papermill": {
     "duration": 0.009524,
     "end_time": "2023-11-19T22:32:25.156617",
     "exception": false,
     "start_time": "2023-11-19T22:32:25.147093",
     "status": "completed"
    },
    "tags": []
   },
   "source": [
    "## Z-score standardisation"
   ]
  },
  {
   "cell_type": "code",
   "execution_count": 7,
   "id": "36295b18",
   "metadata": {
    "execution": {
     "iopub.execute_input": "2023-11-19T22:32:25.178105Z",
     "iopub.status.busy": "2023-11-19T22:32:25.177726Z",
     "iopub.status.idle": "2023-11-19T22:32:25.196912Z",
     "shell.execute_reply": "2023-11-19T22:32:25.195873Z"
    },
    "papermill": {
     "duration": 0.033008,
     "end_time": "2023-11-19T22:32:25.199504",
     "exception": false,
     "start_time": "2023-11-19T22:32:25.166496",
     "status": "completed"
    },
    "tags": []
   },
   "outputs": [],
   "source": [
    "from sklearn.preprocessing import StandardScaler\n",
    "\n",
    "X_trains_z_score = X_trains_log.copy()\n",
    "\n",
    "numeric_columns_except_class = [col for col in X_trains_z_score.columns if col != 'class' and pd.api.types.is_numeric_dtype(X_trains_z_score[col])]\n",
    "scaler = StandardScaler()\n",
    "X_trains_z_score[numeric_columns_except_class] = scaler.fit_transform(X_trains_z_score[numeric_columns_except_class])\n"
   ]
  },
  {
   "cell_type": "code",
   "execution_count": 8,
   "id": "3e6b7dd8",
   "metadata": {
    "execution": {
     "iopub.execute_input": "2023-11-19T22:32:25.221588Z",
     "iopub.status.busy": "2023-11-19T22:32:25.220421Z",
     "iopub.status.idle": "2023-11-19T22:32:25.230010Z",
     "shell.execute_reply": "2023-11-19T22:32:25.228905Z"
    },
    "papermill": {
     "duration": 0.022956,
     "end_time": "2023-11-19T22:32:25.232226",
     "exception": false,
     "start_time": "2023-11-19T22:32:25.209270",
     "status": "completed"
    },
    "tags": []
   },
   "outputs": [],
   "source": [
    "def plot_histograms_transformed(dataframe):\n",
    "    numeric_columns_except_class = [col for col in dataframe.columns if col != 'class' and pd.api.types.is_numeric_dtype(dataframe[col])]\n",
    "    \n",
    "    num_plots = len(numeric_columns_except_class)\n",
    "    num_plots_per_row = 4\n",
    "    num_rows = (num_plots - 1) // num_plots_per_row + 1\n",
    "    \n",
    "    fig, axes = plt.subplots(num_rows, num_plots_per_row, figsize=(20, 15))\n",
    "    \n",
    "    axes = axes.flatten()\n",
    "    \n",
    "    for i, column in enumerate(numeric_columns_except_class):\n",
    "        dataframe[column].plot(kind='hist', ax=axes[i], title=f'{column} (Transformed)')\n",
    "        axes[i].set_xlabel(\"\")  \n",
    "\n",
    "    for j in range(i+1, num_plots_per_row*num_rows):\n",
    "        axes[j].axis('off')\n",
    "    \n",
    "    plt.tight_layout()\n",
    "    plt.show()\n",
    "\n",
    "# plot_histograms_transformed(X_trains_z_score)\n"
   ]
  },
  {
   "cell_type": "markdown",
   "id": "caf0e986",
   "metadata": {
    "papermill": {
     "duration": 0.009355,
     "end_time": "2023-11-19T22:32:25.251808",
     "exception": false,
     "start_time": "2023-11-19T22:32:25.242453",
     "status": "completed"
    },
    "tags": []
   },
   "source": [
    "## Min-max scaling"
   ]
  },
  {
   "cell_type": "code",
   "execution_count": 9,
   "id": "357b8dc3",
   "metadata": {
    "execution": {
     "iopub.execute_input": "2023-11-19T22:32:25.273287Z",
     "iopub.status.busy": "2023-11-19T22:32:25.272550Z",
     "iopub.status.idle": "2023-11-19T22:32:25.288907Z",
     "shell.execute_reply": "2023-11-19T22:32:25.287841Z"
    },
    "papermill": {
     "duration": 0.030013,
     "end_time": "2023-11-19T22:32:25.291387",
     "exception": false,
     "start_time": "2023-11-19T22:32:25.261374",
     "status": "completed"
    },
    "tags": []
   },
   "outputs": [],
   "source": [
    "from sklearn.preprocessing import MinMaxScaler\n",
    "\n",
    "X_trains_minmax = X_trains_log.copy()\n",
    "\n",
    "numeric_columns_except_class = [col for col in X_trains_minmax.columns if col != 'class' and pd.api.types.is_numeric_dtype(X_trains_minmax[col])]\n",
    "scaler = MinMaxScaler()\n",
    "X_trains_minmax[numeric_columns_except_class] = scaler.fit_transform(X_trains_minmax[numeric_columns_except_class])\n"
   ]
  },
  {
   "cell_type": "code",
   "execution_count": 10,
   "id": "27ce3a25",
   "metadata": {
    "execution": {
     "iopub.execute_input": "2023-11-19T22:32:25.314599Z",
     "iopub.status.busy": "2023-11-19T22:32:25.314164Z",
     "iopub.status.idle": "2023-11-19T22:32:25.323334Z",
     "shell.execute_reply": "2023-11-19T22:32:25.322192Z"
    },
    "papermill": {
     "duration": 0.022614,
     "end_time": "2023-11-19T22:32:25.325668",
     "exception": false,
     "start_time": "2023-11-19T22:32:25.303054",
     "status": "completed"
    },
    "tags": []
   },
   "outputs": [],
   "source": [
    "def plot_histograms_transformed(dataframe):\n",
    "    numeric_columns_except_class = [col for col in dataframe.columns if col != 'class' and pd.api.types.is_numeric_dtype(dataframe[col])]\n",
    "\n",
    "    num_plots = len(numeric_columns_except_class)\n",
    "    num_plots_per_row = 4\n",
    "    num_rows = (num_plots - 1) // num_plots_per_row + 1\n",
    "\n",
    "    fig, axes = plt.subplots(num_rows, num_plots_per_row, figsize=(20, 15))\n",
    "\n",
    "    axes = axes.flatten()\n",
    "    \n",
    "    for i, column in enumerate(numeric_columns_except_class):\n",
    "        dataframe[column].plot(kind='hist', ax=axes[i], title=f'{column} (Transformed)')\n",
    "        axes[i].set_xlabel(\"\") \n",
    "    \n",
    "    for j in range(i+1, num_plots_per_row*num_rows):\n",
    "        axes[j].axis('off')\n",
    "    \n",
    "    plt.tight_layout()\n",
    "    plt.show()\n",
    "\n",
    "# plot_histograms_transformed(X_trains_minmax)\n"
   ]
  },
  {
   "cell_type": "markdown",
   "id": "74f27345",
   "metadata": {
    "papermill": {
     "duration": 0.009436,
     "end_time": "2023-11-19T22:32:25.344923",
     "exception": false,
     "start_time": "2023-11-19T22:32:25.335487",
     "status": "completed"
    },
    "tags": []
   },
   "source": [
    "# Train"
   ]
  },
  {
   "cell_type": "code",
   "execution_count": 11,
   "id": "ed711382",
   "metadata": {
    "execution": {
     "iopub.execute_input": "2023-11-19T22:32:25.366179Z",
     "iopub.status.busy": "2023-11-19T22:32:25.365773Z",
     "iopub.status.idle": "2023-11-19T22:32:25.377042Z",
     "shell.execute_reply": "2023-11-19T22:32:25.376218Z"
    },
    "papermill": {
     "duration": 0.024439,
     "end_time": "2023-11-19T22:32:25.379187",
     "exception": false,
     "start_time": "2023-11-19T22:32:25.354748",
     "status": "completed"
    },
    "tags": []
   },
   "outputs": [],
   "source": [
    "# Splitting the log-transformed data into train and test sets\n",
    "X_train_log, X_test_log, y_train_log, y_test_log = train_test_split(X_trains_log.drop(columns=['class']), X_trains_log['class'], test_size=0.2, random_state=42)"
   ]
  },
  {
   "cell_type": "markdown",
   "id": "bb24668d",
   "metadata": {
    "papermill": {
     "duration": 0.009761,
     "end_time": "2023-11-19T22:32:25.398907",
     "exception": false,
     "start_time": "2023-11-19T22:32:25.389146",
     "status": "completed"
    },
    "tags": []
   },
   "source": [
    "## Classifier 1 - k-nearest neighbors"
   ]
  },
  {
   "cell_type": "code",
   "execution_count": 12,
   "id": "f7b15cf9",
   "metadata": {
    "execution": {
     "iopub.execute_input": "2023-11-19T22:32:25.421574Z",
     "iopub.status.busy": "2023-11-19T22:32:25.420352Z",
     "iopub.status.idle": "2023-11-19T22:32:25.655309Z",
     "shell.execute_reply": "2023-11-19T22:32:25.654430Z"
    },
    "papermill": {
     "duration": 0.248921,
     "end_time": "2023-11-19T22:32:25.657918",
     "exception": false,
     "start_time": "2023-11-19T22:32:25.408997",
     "status": "completed"
    },
    "tags": []
   },
   "outputs": [
    {
     "name": "stdout",
     "output_type": "stream",
     "text": [
      "Accuracy of KNN Classifier with Log-transformed Data: 0.96\n",
      "Cross-validated Accuracy with KNN and Log-transformed Data: 0.93 (+/- 0.02)\n",
      "Cross-validated F1 Score with KNN and Log-transformed Data: 0.91 (+/- 0.03)\n"
     ]
    }
   ],
   "source": [
    "# Creating a new KNN Classifier\n",
    "knn_log = KNeighborsClassifier()\n",
    "\n",
    "# Training the KNN Classifier on the log-transformed training data\n",
    "knn_log.fit(X_train_log, y_train_log)\n",
    "\n",
    "# Predicting the 'class' variable on the log-transformed test set\n",
    "y_pred_knn_log = knn_log.predict(X_test_log)\n",
    "\n",
    "# Evaluating the accuracy of the KNN model using log-transformed data\n",
    "accuracy_knn_log = accuracy_score(y_test_log, y_pred_knn_log)\n",
    "print(f\"Accuracy of KNN Classifier with Log-transformed Data: {accuracy_knn_log:.2f}\")\n",
    "\n",
    "# Cross-validation for accuracy with log-transformed data using KNN\n",
    "cv_accuracy_knn_log = cross_val_score(knn_log, X_train_log, y_train_log, cv=5)  # 5-fold cross-validation\n",
    "print(f\"Cross-validated Accuracy with KNN and Log-transformed Data: {cv_accuracy_knn_log.mean():.2f} (+/- {cv_accuracy_knn_log.std():.2f})\")\n",
    "\n",
    "# Cross-validation for F1 score using KNN and log-transformed data\n",
    "cv_f1_knn_log = cross_val_score(knn_log, X_train_log, y_train_log, cv=5, scoring='f1')  # 5-fold cross-validation\n",
    "print(f\"Cross-validated F1 Score with KNN and Log-transformed Data: {cv_f1_knn_log.mean():.2f} (+/- {cv_f1_knn_log.std():.2f})\")\n"
   ]
  },
  {
   "cell_type": "code",
   "execution_count": 13,
   "id": "8c6050f3",
   "metadata": {
    "execution": {
     "iopub.execute_input": "2023-11-19T22:32:25.680275Z",
     "iopub.status.busy": "2023-11-19T22:32:25.679880Z",
     "iopub.status.idle": "2023-11-19T22:32:25.871063Z",
     "shell.execute_reply": "2023-11-19T22:32:25.869838Z"
    },
    "papermill": {
     "duration": 0.205781,
     "end_time": "2023-11-19T22:32:25.874056",
     "exception": false,
     "start_time": "2023-11-19T22:32:25.668275",
     "status": "completed"
    },
    "tags": []
   },
   "outputs": [
    {
     "name": "stdout",
     "output_type": "stream",
     "text": [
      "Accuracy of KNN Classifier with Z-score-transformed Data: 0.95\n",
      "Cross-validated Accuracy with Z-score-transformed Data: 0.96 (+/- 0.03)\n",
      "Cross-validated F1 Score with Z-score-transformed Data: 0.95 (+/- 0.03)\n"
     ]
    }
   ],
   "source": [
    "# Splitting the Z-score-transformed data into train and test sets\n",
    "X_train_z_score, X_test_z_score, y_train_z_score, y_test_z_score = train_test_split(\n",
    "    X_trains_z_score.drop(columns=['class']), X_trains_z_score['class'], test_size=0.2, random_state=42\n",
    ")\n",
    "\n",
    "# Creating a new KNN Classifier\n",
    "knn_z_score = KNeighborsClassifier()\n",
    "\n",
    "# Training the KNN Classifier on the Z-score-transformed training data\n",
    "knn_z_score.fit(X_train_z_score, y_train_z_score)\n",
    "\n",
    "# Predicting the 'class' variable on the Z-score-transformed test set\n",
    "y_pred_z_score = knn_z_score.predict(X_test_z_score)\n",
    "\n",
    "# Evaluating the accuracy of the model using Z-score-transformed data\n",
    "accuracy_z_score = accuracy_score(y_test_z_score, y_pred_z_score)\n",
    "print(f\"Accuracy of KNN Classifier with Z-score-transformed Data: {accuracy_z_score:.2f}\")\n",
    "\n",
    "# Cross-validation for accuracy with Z-score-transformed data\n",
    "cv_accuracy_z_score = cross_val_score(knn_z_score, X_train_z_score, y_train_z_score, cv=5)  # 5-fold cross-validation\n",
    "print(f\"Cross-validated Accuracy with Z-score-transformed Data: {cv_accuracy_z_score.mean():.2f} (+/- {cv_accuracy_z_score.std():.2f})\")\n",
    "\n",
    "# Cross-validation for F1 score using knn_z_score\n",
    "cv_f1_z_score = cross_val_score(knn_z_score, X_train_z_score, y_train_z_score, cv=5, scoring='f1')  # 5-fold cross-validation\n",
    "print(f\"Cross-validated F1 Score with Z-score-transformed Data: {cv_f1_z_score.mean():.2f} (+/- {cv_f1_z_score.std():.2f})\")\n"
   ]
  },
  {
   "cell_type": "code",
   "execution_count": 14,
   "id": "5cfb58c2",
   "metadata": {
    "execution": {
     "iopub.execute_input": "2023-11-19T22:32:25.896924Z",
     "iopub.status.busy": "2023-11-19T22:32:25.896103Z",
     "iopub.status.idle": "2023-11-19T22:32:26.086947Z",
     "shell.execute_reply": "2023-11-19T22:32:26.085892Z"
    },
    "papermill": {
     "duration": 0.20478,
     "end_time": "2023-11-19T22:32:26.089523",
     "exception": false,
     "start_time": "2023-11-19T22:32:25.884743",
     "status": "completed"
    },
    "tags": []
   },
   "outputs": [
    {
     "name": "stdout",
     "output_type": "stream",
     "text": [
      "Accuracy of KNN Classifier with MinMax-scaled Data: 0.98\n",
      "Cross-validated Accuracy with MinMax-scaled Data: 0.95 (+/- 0.03)\n",
      "Cross-validated F1 Score with MinMax-scaled Data: 0.94 (+/- 0.03)\n"
     ]
    }
   ],
   "source": [
    "# Splitting the MinMax-scaled data into train and test sets\n",
    "X_train_minmax, X_test_minmax, y_train_minmax, y_test_minmax = train_test_split(\n",
    "    X_trains_minmax.drop(columns=['class']), X_trains_minmax['class'], test_size=0.2, random_state=42\n",
    ")\n",
    "\n",
    "# Creating a new KNN Classifier\n",
    "knn_minmax = KNeighborsClassifier()\n",
    "\n",
    "# Training the KNN Classifier on the MinMax-scaled training data\n",
    "knn_minmax.fit(X_train_minmax, y_train_minmax)\n",
    "\n",
    "# Predicting the 'class' variable on the MinMax-scaled test set\n",
    "y_pred_minmax = knn_minmax.predict(X_test_minmax)\n",
    "\n",
    "# Evaluating the accuracy of the model using MinMax-scaled data\n",
    "accuracy_minmax = accuracy_score(y_test_minmax, y_pred_minmax)\n",
    "print(f\"Accuracy of KNN Classifier with MinMax-scaled Data: {accuracy_minmax:.2f}\")\n",
    "\n",
    "# Cross-validation for accuracy with MinMax-scaled data\n",
    "cv_accuracy_minmax = cross_val_score(knn_minmax, X_train_minmax, y_train_minmax, cv=5)  # 5-fold cross-validation\n",
    "print(f\"Cross-validated Accuracy with MinMax-scaled Data: {cv_accuracy_minmax.mean():.2f} (+/- {cv_accuracy_minmax.std():.2f})\")\n",
    "\n",
    "# Cross-validation for F1 score using knn_minmax\n",
    "cv_f1_minmax = cross_val_score(knn_minmax, X_train_minmax, y_train_minmax, cv=5, scoring='f1')  # 5-fold cross-validation\n",
    "print(f\"Cross-validated F1 Score with MinMax-scaled Data: {cv_f1_minmax.mean():.2f} (+/- {cv_f1_minmax.std():.2f})\")\n"
   ]
  },
  {
   "cell_type": "code",
   "execution_count": 15,
   "id": "0f04ccf5",
   "metadata": {
    "execution": {
     "iopub.execute_input": "2023-11-19T22:32:26.112447Z",
     "iopub.status.busy": "2023-11-19T22:32:26.111722Z",
     "iopub.status.idle": "2023-11-19T22:32:26.172788Z",
     "shell.execute_reply": "2023-11-19T22:32:26.171899Z"
    },
    "papermill": {
     "duration": 0.074925,
     "end_time": "2023-11-19T22:32:26.175065",
     "exception": false,
     "start_time": "2023-11-19T22:32:26.100140",
     "status": "completed"
    },
    "tags": []
   },
   "outputs": [
    {
     "data": {
      "text/html": [
       "<div>\n",
       "<style scoped>\n",
       "    .dataframe tbody tr th:only-of-type {\n",
       "        vertical-align: middle;\n",
       "    }\n",
       "\n",
       "    .dataframe tbody tr th {\n",
       "        vertical-align: top;\n",
       "    }\n",
       "\n",
       "    .dataframe thead th {\n",
       "        text-align: right;\n",
       "    }\n",
       "</style>\n",
       "<table border=\"1\" class=\"dataframe\">\n",
       "  <thead>\n",
       "    <tr style=\"text-align: right;\">\n",
       "      <th></th>\n",
       "      <th>ID</th>\n",
       "      <th>class</th>\n",
       "    </tr>\n",
       "  </thead>\n",
       "  <tbody>\n",
       "    <tr>\n",
       "      <th>0</th>\n",
       "      <td>884437</td>\n",
       "      <td>False</td>\n",
       "    </tr>\n",
       "    <tr>\n",
       "      <th>1</th>\n",
       "      <td>901011</td>\n",
       "      <td>False</td>\n",
       "    </tr>\n",
       "    <tr>\n",
       "      <th>2</th>\n",
       "      <td>865432</td>\n",
       "      <td>False</td>\n",
       "    </tr>\n",
       "    <tr>\n",
       "      <th>3</th>\n",
       "      <td>894329</td>\n",
       "      <td>False</td>\n",
       "    </tr>\n",
       "    <tr>\n",
       "      <th>4</th>\n",
       "      <td>84348301</td>\n",
       "      <td>True</td>\n",
       "    </tr>\n",
       "    <tr>\n",
       "      <th>...</th>\n",
       "      <td>...</td>\n",
       "      <td>...</td>\n",
       "    </tr>\n",
       "    <tr>\n",
       "      <th>279</th>\n",
       "      <td>863030</td>\n",
       "      <td>True</td>\n",
       "    </tr>\n",
       "    <tr>\n",
       "      <th>280</th>\n",
       "      <td>872113</td>\n",
       "      <td>False</td>\n",
       "    </tr>\n",
       "    <tr>\n",
       "      <th>281</th>\n",
       "      <td>915276</td>\n",
       "      <td>False</td>\n",
       "    </tr>\n",
       "    <tr>\n",
       "      <th>282</th>\n",
       "      <td>867739</td>\n",
       "      <td>True</td>\n",
       "    </tr>\n",
       "    <tr>\n",
       "      <th>283</th>\n",
       "      <td>8712291</td>\n",
       "      <td>False</td>\n",
       "    </tr>\n",
       "  </tbody>\n",
       "</table>\n",
       "<p>284 rows × 2 columns</p>\n",
       "</div>"
      ],
      "text/plain": [
       "           ID  class\n",
       "0      884437  False\n",
       "1      901011  False\n",
       "2      865432  False\n",
       "3      894329  False\n",
       "4    84348301   True\n",
       "..        ...    ...\n",
       "279    863030   True\n",
       "280    872113  False\n",
       "281    915276  False\n",
       "282    867739   True\n",
       "283   8712291  False\n",
       "\n",
       "[284 rows x 2 columns]"
      ]
     },
     "execution_count": 15,
     "metadata": {},
     "output_type": "execute_result"
    }
   ],
   "source": [
    "# Export submission\n",
    "scaler = StandardScaler()\n",
    "tes_z = tes.copy()\n",
    "tes_z.rename(columns=lambda x: x.strip(), inplace=True)\n",
    "tes_z[numeric_columns_except_class] = scaler.fit_transform(tes_z[numeric_columns_except_class])\n",
    "pred = knn_z_score.predict(tes_z.drop('ID', axis = 'columns'))\n",
    "sub = pd.DataFrame({'ID': tes['ID'], 'class': pred})\n",
    "sub['class'] = sub['class'].apply(lambda x: bool(x))\n",
    "sub.to_csv('submission.csv', index=False)\n",
    "sub"
   ]
  },
  {
   "cell_type": "markdown",
   "id": "b249763e",
   "metadata": {
    "papermill": {
     "duration": 0.010541,
     "end_time": "2023-11-19T22:32:26.196244",
     "exception": false,
     "start_time": "2023-11-19T22:32:26.185703",
     "status": "completed"
    },
    "tags": []
   },
   "source": [
    "## Classifier 2 - Decision tree"
   ]
  },
  {
   "cell_type": "code",
   "execution_count": 16,
   "id": "c98ae8e5",
   "metadata": {
    "execution": {
     "iopub.execute_input": "2023-11-19T22:32:26.220286Z",
     "iopub.status.busy": "2023-11-19T22:32:26.218867Z",
     "iopub.status.idle": "2023-11-19T22:32:26.358799Z",
     "shell.execute_reply": "2023-11-19T22:32:26.357571Z"
    },
    "papermill": {
     "duration": 0.154727,
     "end_time": "2023-11-19T22:32:26.361539",
     "exception": false,
     "start_time": "2023-11-19T22:32:26.206812",
     "status": "completed"
    },
    "tags": []
   },
   "outputs": [
    {
     "name": "stdout",
     "output_type": "stream",
     "text": [
      "Accuracy of Decision Tree Classifier with Log-transformed Data: 0.93\n",
      "Cross-validated Accuracy with Log-transformed Data: 0.95 (+/- 0.03)\n",
      "Cross-validated F1 Score with Log-transformed Data: 0.93 (+/- 0.04)\n"
     ]
    }
   ],
   "source": [
    "# Creating a new Decision Tree Classifier\n",
    "clf_log = DecisionTreeClassifier(random_state=42)\n",
    "\n",
    "# Training the Decision Tree Classifier on the log-transformed training data\n",
    "clf_log.fit(X_train_log, y_train_log)\n",
    "\n",
    "# Predicting the 'class' variable on the log-transformed test set\n",
    "y_pred_log = clf_log.predict(X_test_log)\n",
    "\n",
    "# Evaluating the accuracy of the model using log-transformed data\n",
    "accuracy_log = accuracy_score(y_test_log, y_pred_log)\n",
    "print(f\"Accuracy of Decision Tree Classifier with Log-transformed Data: {accuracy_log:.2f}\")\n",
    "\n",
    "# Cross-validation for accuracy with log-transformed data\n",
    "cv_accuracy_log = cross_val_score(clf_log, X_train_log, y_train_log, cv=5)  # 5-fold cross-validation\n",
    "print(f\"Cross-validated Accuracy with Log-transformed Data: {cv_accuracy_log.mean():.2f} (+/- {cv_accuracy_log.std():.2f})\")\n",
    "\n",
    "# Cross-validation for F1 score using clf_log\n",
    "cv_f1_log = cross_val_score(clf_log, X_train_log, y_train_log, cv=5, scoring='f1')  # 5-fold cross-validation\n",
    "print(f\"Cross-validated F1 Score with Log-transformed Data: {cv_f1_log.mean():.2f} (+/- {cv_f1_log.std():.2f})\")\n"
   ]
  },
  {
   "cell_type": "code",
   "execution_count": 17,
   "id": "b2f67285",
   "metadata": {
    "execution": {
     "iopub.execute_input": "2023-11-19T22:32:26.384759Z",
     "iopub.status.busy": "2023-11-19T22:32:26.384340Z",
     "iopub.status.idle": "2023-11-19T22:32:26.528535Z",
     "shell.execute_reply": "2023-11-19T22:32:26.527003Z"
    },
    "papermill": {
     "duration": 0.158972,
     "end_time": "2023-11-19T22:32:26.531079",
     "exception": false,
     "start_time": "2023-11-19T22:32:26.372107",
     "status": "completed"
    },
    "tags": []
   },
   "outputs": [
    {
     "name": "stdout",
     "output_type": "stream",
     "text": [
      "Accuracy of Decision Tree Classifier with Z-score-transformed Data: 0.93\n",
      "Cross-validated Accuracy with Z-score-transformed Data: 0.95 (+/- 0.03)\n",
      "Cross-validated F1 Score with Z-score-transformed Data: 0.93 (+/- 0.04)\n"
     ]
    }
   ],
   "source": [
    "X_train_z_score, X_test_z_score, y_train_z_score, y_test_z_score = train_test_split(X_trains_z_score.drop(columns=['class']), X_trains_z_score['class'], test_size=0.2, random_state=42)\n",
    "\n",
    "clf_z_score = DecisionTreeClassifier(random_state=42)\n",
    "\n",
    "clf_z_score.fit(X_train_z_score, y_train_z_score)\n",
    "\n",
    "y_pred_z_score = clf_z_score.predict(X_test_z_score)\n",
    "\n",
    "accuracy_z_score = accuracy_score(y_test_z_score, y_pred_z_score)\n",
    "print(f\"Accuracy of Decision Tree Classifier with Z-score-transformed Data: {accuracy_z_score:.2f}\")\n",
    "\n",
    "cv_accuracy_z_score = cross_val_score(clf_z_score, X_train_z_score, y_train_z_score, cv=5)  # 5-fold cross-validation\n",
    "print(f\"Cross-validated Accuracy with Z-score-transformed Data: {cv_accuracy_z_score.mean():.2f} (+/- {cv_accuracy_z_score.std():.2f})\")\n",
    "\n",
    "cv_f1_z_score = cross_val_score(clf_z_score, X_train_z_score, y_train_z_score, cv=5, scoring='f1')  # 5-fold cross-validation\n",
    "print(f\"Cross-validated F1 Score with Z-score-transformed Data: {cv_f1_z_score.mean():.2f} (+/- {cv_f1_z_score.std():.2f})\")\n"
   ]
  },
  {
   "cell_type": "code",
   "execution_count": 18,
   "id": "6da93db9",
   "metadata": {
    "execution": {
     "iopub.execute_input": "2023-11-19T22:32:26.555445Z",
     "iopub.status.busy": "2023-11-19T22:32:26.554092Z",
     "iopub.status.idle": "2023-11-19T22:32:26.699840Z",
     "shell.execute_reply": "2023-11-19T22:32:26.698571Z"
    },
    "papermill": {
     "duration": 0.160398,
     "end_time": "2023-11-19T22:32:26.702345",
     "exception": false,
     "start_time": "2023-11-19T22:32:26.541947",
     "status": "completed"
    },
    "tags": []
   },
   "outputs": [
    {
     "name": "stdout",
     "output_type": "stream",
     "text": [
      "Accuracy of Decision Tree Classifier with MinMax-scaled Data: 0.93\n",
      "Cross-validated Accuracy with MinMax-scaled Data: 0.95 (+/- 0.03)\n",
      "Cross-validated F1 Score with MinMax-scaled Data: 0.93 (+/- 0.04)\n"
     ]
    }
   ],
   "source": [
    "X_train_minmax, X_test_minmax, y_train_minmax, y_test_minmax = train_test_split(X_trains_minmax.drop(columns=['class']), X_trains_minmax['class'], test_size=0.2, random_state=42)\n",
    "\n",
    "clf_minmax = DecisionTreeClassifier(random_state=42)\n",
    "\n",
    "clf_minmax.fit(X_train_minmax, y_train_minmax)\n",
    "\n",
    "y_pred_minmax = clf_minmax.predict(X_test_minmax)\n",
    "\n",
    "accuracy_minmax = accuracy_score(y_test_minmax, y_pred_minmax)\n",
    "print(f\"Accuracy of Decision Tree Classifier with MinMax-scaled Data: {accuracy_minmax:.2f}\")\n",
    "\n",
    "cv_accuracy_minmax = cross_val_score(clf_minmax, X_train_minmax, y_train_minmax, cv=5)  # 5-fold cross-validation\n",
    "print(f\"Cross-validated Accuracy with MinMax-scaled Data: {cv_accuracy_minmax.mean():.2f} (+/- {cv_accuracy_minmax.std():.2f})\")\n",
    "\n",
    "cv_f1_minmax = cross_val_score(clf_minmax, X_train_minmax, y_train_minmax, cv=5, scoring='f1')  # 5-fold cross-validation\n",
    "print(f\"Cross-validated F1 Score with MinMax-scaled Data: {cv_f1_minmax.mean():.2f} (+/- {cv_f1_minmax.std():.2f})\")\n"
   ]
  },
  {
   "cell_type": "markdown",
   "id": "dfe6560d",
   "metadata": {
    "papermill": {
     "duration": 0.010707,
     "end_time": "2023-11-19T22:32:26.724222",
     "exception": false,
     "start_time": "2023-11-19T22:32:26.713515",
     "status": "completed"
    },
    "tags": []
   },
   "source": [
    "## Classifier 3 - Logistic Regression"
   ]
  },
  {
   "cell_type": "code",
   "execution_count": 19,
   "id": "95e5e5f1",
   "metadata": {
    "execution": {
     "iopub.execute_input": "2023-11-19T22:32:26.748342Z",
     "iopub.status.busy": "2023-11-19T22:32:26.747969Z",
     "iopub.status.idle": "2023-11-19T22:32:27.014215Z",
     "shell.execute_reply": "2023-11-19T22:32:27.012560Z"
    },
    "papermill": {
     "duration": 0.282245,
     "end_time": "2023-11-19T22:32:27.017821",
     "exception": false,
     "start_time": "2023-11-19T22:32:26.735576",
     "status": "completed"
    },
    "tags": []
   },
   "outputs": [
    {
     "name": "stdout",
     "output_type": "stream",
     "text": [
      "Accuracy of Logistic Regression Classifier with Log-transformed Data: 0.96\n",
      "Cross-validated Accuracy with Log-transformed Data: 0.93 (+/- 0.02)\n",
      "Cross-validated F1 Score with Log-transformed Data: 0.91 (+/- 0.03)\n"
     ]
    }
   ],
   "source": [
    "# Splitting the log-transformed data into train and test sets\n",
    "X_train_log, X_test_log, y_train_log, y_test_log = train_test_split(\n",
    "    X_trains_log.drop(columns=['class']), X_trains_log['class'], test_size=0.2, random_state=42\n",
    ")\n",
    "\n",
    "# Creating a new Logistic Regression Classifier\n",
    "lr_log = LogisticRegression(random_state=42)\n",
    "\n",
    "# Training the Logistic Regression Classifier on the log-transformed training data\n",
    "lr_log.fit(X_train_log, y_train_log)\n",
    "\n",
    "# Predicting the 'class' variable on the log-transformed test set\n",
    "y_pred_log = lr_log.predict(X_test_log)\n",
    "\n",
    "# Evaluating the accuracy of the model using log-transformed data\n",
    "accuracy_log = accuracy_score(y_test_log, y_pred_log)\n",
    "print(f\"Accuracy of Logistic Regression Classifier with Log-transformed Data: {accuracy_log:.2f}\")\n",
    "\n",
    "# Cross-validation for accuracy with log-transformed data\n",
    "cv_accuracy_log = cross_val_score(lr_log, X_train_log, y_train_log, cv=5)  # 5-fold cross-validation\n",
    "print(f\"Cross-validated Accuracy with Log-transformed Data: {cv_accuracy_log.mean():.2f} (+/- {cv_accuracy_log.std():.2f})\")\n",
    "\n",
    "# Cross-validation for F1 score using lr_log\n",
    "cv_f1_log = cross_val_score(lr_log, X_train_log, y_train_log, cv=5, scoring='f1')  # 5-fold cross-validation\n",
    "print(f\"Cross-validated F1 Score with Log-transformed Data: {cv_f1_log.mean():.2f} (+/- {cv_f1_log.std():.2f})\")"
   ]
  },
  {
   "cell_type": "code",
   "execution_count": 20,
   "id": "eca1eadf",
   "metadata": {
    "execution": {
     "iopub.execute_input": "2023-11-19T22:32:27.053679Z",
     "iopub.status.busy": "2023-11-19T22:32:27.052105Z",
     "iopub.status.idle": "2023-11-19T22:32:27.262953Z",
     "shell.execute_reply": "2023-11-19T22:32:27.260812Z"
    },
    "papermill": {
     "duration": 0.235292,
     "end_time": "2023-11-19T22:32:27.265935",
     "exception": false,
     "start_time": "2023-11-19T22:32:27.030643",
     "status": "completed"
    },
    "tags": []
   },
   "outputs": [
    {
     "name": "stdout",
     "output_type": "stream",
     "text": [
      "Accuracy of Logistic Regression Classifier with Z-score-transformed Data: 0.96\n",
      "Cross-validated Accuracy with Z-score-transformed Data: 0.99 (+/- 0.02)\n",
      "Cross-validated F1 Score with Z-score-transformed Data: 0.98 (+/- 0.02)\n"
     ]
    }
   ],
   "source": [
    "# Splitting the Z-score-transformed data into train and test sets\n",
    "X_train_z_score, X_test_z_score, y_train_z_score, y_test_z_score = train_test_split(\n",
    "    X_trains_z_score.drop(columns=['class']), X_trains_z_score['class'], test_size=0.2, random_state=42\n",
    ")\n",
    "\n",
    "# Creating a new Logistic Regression Classifier\n",
    "lr_z_score = LogisticRegression(random_state=42)\n",
    "\n",
    "# Training the Logistic Regression Classifier on the Z-score-transformed training data\n",
    "lr_z_score.fit(X_train_z_score, y_train_z_score)\n",
    "\n",
    "# Predicting the 'class' variable on the Z-score-transformed test set\n",
    "y_pred_z_score = lr_z_score.predict(X_test_z_score)\n",
    "\n",
    "# Evaluating the accuracy of the model using Z-score-transformed data\n",
    "accuracy_z_score = accuracy_score(y_test_z_score, y_pred_z_score)\n",
    "print(f\"Accuracy of Logistic Regression Classifier with Z-score-transformed Data: {accuracy_z_score:.2f}\")\n",
    "\n",
    "# Cross-validation for accuracy with Z-score-transformed data\n",
    "cv_accuracy_z_score = cross_val_score(lr_z_score, X_train_z_score, y_train_z_score, cv=5)  # 5-fold cross-validation\n",
    "print(f\"Cross-validated Accuracy with Z-score-transformed Data: {cv_accuracy_z_score.mean():.2f} (+/- {cv_accuracy_z_score.std():.2f})\")\n",
    "\n",
    "# Cross-validation for F1 score using lr_z_score\n",
    "cv_f1_z_score = cross_val_score(lr_z_score, X_train_z_score, y_train_z_score, cv=5, scoring='f1')  # 5-fold cross-validation\n",
    "print(f\"Cross-validated F1 Score with Z-score-transformed Data: {cv_f1_z_score.mean():.2f} (+/- {cv_f1_z_score.std():.2f})\")"
   ]
  },
  {
   "cell_type": "code",
   "execution_count": 21,
   "id": "ebb26bd3",
   "metadata": {
    "execution": {
     "iopub.execute_input": "2023-11-19T22:32:27.294818Z",
     "iopub.status.busy": "2023-11-19T22:32:27.293423Z",
     "iopub.status.idle": "2023-11-19T22:32:27.496120Z",
     "shell.execute_reply": "2023-11-19T22:32:27.494871Z"
    },
    "papermill": {
     "duration": 0.220064,
     "end_time": "2023-11-19T22:32:27.498987",
     "exception": false,
     "start_time": "2023-11-19T22:32:27.278923",
     "status": "completed"
    },
    "tags": []
   },
   "outputs": [
    {
     "name": "stdout",
     "output_type": "stream",
     "text": [
      "Accuracy of Logistic Regression Classifier with MinMax-scaled Data: 0.98\n",
      "Cross-validated Accuracy with MinMax-scaled Data: 0.97 (+/- 0.03)\n",
      "Cross-validated F1 Score with MinMax-scaled Data: 0.97 (+/- 0.04)\n"
     ]
    }
   ],
   "source": [
    "# Splitting the MinMax-scaled data into train and test sets\n",
    "X_train_minmax, X_test_minmax, y_train_minmax, y_test_minmax = train_test_split(\n",
    "    X_trains_minmax.drop(columns=['class']), X_trains_minmax['class'], test_size=0.2, random_state=42\n",
    ")\n",
    "\n",
    "# Creating a new Logistic Regression Classifier\n",
    "lr_minmax = LogisticRegression(random_state=42)\n",
    "\n",
    "# Training the Logistic Regression Classifier on the MinMax-scaled training data\n",
    "lr_minmax.fit(X_train_minmax, y_train_minmax)\n",
    "\n",
    "# Predicting the 'class' variable on the MinMax-scaled test set\n",
    "y_pred_minmax = lr_minmax.predict(X_test_minmax)\n",
    "\n",
    "# Evaluating the accuracy of the model using MinMax-scaled data\n",
    "accuracy_minmax = accuracy_score(y_test_minmax, y_pred_minmax)\n",
    "print(f\"Accuracy of Logistic Regression Classifier with MinMax-scaled Data: {accuracy_minmax:.2f}\")\n",
    "\n",
    "# Cross-validation for accuracy with MinMax-scaled data\n",
    "cv_accuracy_minmax = cross_val_score(lr_minmax, X_train_minmax, y_train_minmax, cv=5)  # 5-fold cross-validation\n",
    "print(f\"Cross-validated Accuracy with MinMax-scaled Data: {cv_accuracy_minmax.mean():.2f} (+/- {cv_accuracy_minmax.std():.2f})\")\n",
    "\n",
    "# Cross-validation for F1 score using lr_minmax\n",
    "cv_f1_minmax = cross_val_score(lr_minmax, X_train_minmax, y_train_minmax, cv=5, scoring='f1')  # 5-fold cross-validation\n",
    "print(f\"Cross-validated F1 Score with MinMax-scaled Data: {cv_f1_minmax.mean():.2f} (+/- {cv_f1_minmax.std():.2f})\")"
   ]
  },
  {
   "cell_type": "code",
   "execution_count": null,
   "id": "f46abe29",
   "metadata": {
    "papermill": {
     "duration": 0.012772,
     "end_time": "2023-11-19T22:32:27.524123",
     "exception": false,
     "start_time": "2023-11-19T22:32:27.511351",
     "status": "completed"
    },
    "tags": []
   },
   "outputs": [],
   "source": []
  }
 ],
 "metadata": {
  "kaggle": {
   "accelerator": "none",
   "dataSources": [
    {
     "databundleVersionId": 6910966,
     "sourceId": 63335,
     "sourceType": "competition"
    }
   ],
   "dockerImageVersionId": 30579,
   "isGpuEnabled": false,
   "isInternetEnabled": true,
   "language": "python",
   "sourceType": "notebook"
  },
  "kernelspec": {
   "display_name": "Python 3",
   "language": "python",
   "name": "python3"
  },
  "language_info": {
   "codemirror_mode": {
    "name": "ipython",
    "version": 3
   },
   "file_extension": ".py",
   "mimetype": "text/x-python",
   "name": "python",
   "nbconvert_exporter": "python",
   "pygments_lexer": "ipython3",
   "version": "3.10.12"
  },
  "papermill": {
   "default_parameters": {},
   "duration": 9.554577,
   "end_time": "2023-11-19T22:32:28.259187",
   "environment_variables": {},
   "exception": null,
   "input_path": "__notebook__.ipynb",
   "output_path": "__notebook__.ipynb",
   "parameters": {},
   "start_time": "2023-11-19T22:32:18.704610",
   "version": "2.4.0"
  }
 },
 "nbformat": 4,
 "nbformat_minor": 5
}
